{
 "cells": [
  {
   "cell_type": "code",
   "execution_count": 60,
   "id": "717b35ac",
   "metadata": {},
   "outputs": [],
   "source": [
    "import pandas as pd\n",
    "import numpy as np\n",
    "import matplotlib.pyplot\n",
    "import seaborn as sns"
   ]
  },
  {
   "cell_type": "code",
   "execution_count": 61,
   "id": "09d41ddf",
   "metadata": {},
   "outputs": [
    {
     "data": {
      "text/html": [
       "<div>\n",
       "<style scoped>\n",
       "    .dataframe tbody tr th:only-of-type {\n",
       "        vertical-align: middle;\n",
       "    }\n",
       "\n",
       "    .dataframe tbody tr th {\n",
       "        vertical-align: top;\n",
       "    }\n",
       "\n",
       "    .dataframe thead th {\n",
       "        text-align: right;\n",
       "    }\n",
       "</style>\n",
       "<table border=\"1\" class=\"dataframe\">\n",
       "  <thead>\n",
       "    <tr style=\"text-align: right;\">\n",
       "      <th></th>\n",
       "      <th>Content ID</th>\n",
       "      <th>Content Type</th>\n",
       "      <th>Category</th>\n",
       "    </tr>\n",
       "  </thead>\n",
       "  <tbody>\n",
       "    <tr>\n",
       "      <th>0</th>\n",
       "      <td>97522e57-d9ab-4bd6-97bf-c24d952602d2</td>\n",
       "      <td>photo</td>\n",
       "      <td>studying</td>\n",
       "    </tr>\n",
       "    <tr>\n",
       "      <th>1</th>\n",
       "      <td>9f737e0a-3cdd-4d29-9d24-753f4e3be810</td>\n",
       "      <td>photo</td>\n",
       "      <td>healthy eating</td>\n",
       "    </tr>\n",
       "    <tr>\n",
       "      <th>2</th>\n",
       "      <td>230c4e4d-70c3-461d-b42c-ec09396efb3f</td>\n",
       "      <td>photo</td>\n",
       "      <td>healthy eating</td>\n",
       "    </tr>\n",
       "    <tr>\n",
       "      <th>3</th>\n",
       "      <td>356fff80-da4d-4785-9f43-bc1261031dc6</td>\n",
       "      <td>photo</td>\n",
       "      <td>technology</td>\n",
       "    </tr>\n",
       "  </tbody>\n",
       "</table>\n",
       "</div>"
      ],
      "text/plain": [
       "                             Content ID Content Type        Category\n",
       "0  97522e57-d9ab-4bd6-97bf-c24d952602d2        photo        studying\n",
       "1  9f737e0a-3cdd-4d29-9d24-753f4e3be810        photo  healthy eating\n",
       "2  230c4e4d-70c3-461d-b42c-ec09396efb3f        photo  healthy eating\n",
       "3  356fff80-da4d-4785-9f43-bc1261031dc6        photo      technology"
      ]
     },
     "execution_count": 61,
     "metadata": {},
     "output_type": "execute_result"
    }
   ],
   "source": [
    "# First cleaned content dataset\n",
    "contentcsv = pd.read_csv(\"Cleaned content.csv\",index_col=0)\n",
    "contentcsv.head(4)"
   ]
  },
  {
   "cell_type": "code",
   "execution_count": 62,
   "id": "c1c8fe03",
   "metadata": {},
   "outputs": [
    {
     "data": {
      "text/html": [
       "<div>\n",
       "<style scoped>\n",
       "    .dataframe tbody tr th:only-of-type {\n",
       "        vertical-align: middle;\n",
       "    }\n",
       "\n",
       "    .dataframe tbody tr th {\n",
       "        vertical-align: top;\n",
       "    }\n",
       "\n",
       "    .dataframe thead th {\n",
       "        text-align: right;\n",
       "    }\n",
       "</style>\n",
       "<table border=\"1\" class=\"dataframe\">\n",
       "  <thead>\n",
       "    <tr style=\"text-align: right;\">\n",
       "      <th></th>\n",
       "      <th>Content ID</th>\n",
       "      <th>Reaction Type</th>\n",
       "      <th>Datetime</th>\n",
       "    </tr>\n",
       "  </thead>\n",
       "  <tbody>\n",
       "    <tr>\n",
       "      <th>1</th>\n",
       "      <td>97522e57-d9ab-4bd6-97bf-c24d952602d2</td>\n",
       "      <td>disgust</td>\n",
       "      <td>2020-11-07 09:43:50</td>\n",
       "    </tr>\n",
       "    <tr>\n",
       "      <th>2</th>\n",
       "      <td>97522e57-d9ab-4bd6-97bf-c24d952602d2</td>\n",
       "      <td>dislike</td>\n",
       "      <td>2021-06-17 12:22:51</td>\n",
       "    </tr>\n",
       "    <tr>\n",
       "      <th>3</th>\n",
       "      <td>97522e57-d9ab-4bd6-97bf-c24d952602d2</td>\n",
       "      <td>scared</td>\n",
       "      <td>2021-04-18 05:13:58</td>\n",
       "    </tr>\n",
       "    <tr>\n",
       "      <th>4</th>\n",
       "      <td>97522e57-d9ab-4bd6-97bf-c24d952602d2</td>\n",
       "      <td>disgust</td>\n",
       "      <td>2021-01-06 19:13:01</td>\n",
       "    </tr>\n",
       "    <tr>\n",
       "      <th>5</th>\n",
       "      <td>97522e57-d9ab-4bd6-97bf-c24d952602d2</td>\n",
       "      <td>interested</td>\n",
       "      <td>2020-08-23 12:25:58</td>\n",
       "    </tr>\n",
       "  </tbody>\n",
       "</table>\n",
       "</div>"
      ],
      "text/plain": [
       "                             Content ID Reaction Type             Datetime\n",
       "1  97522e57-d9ab-4bd6-97bf-c24d952602d2       disgust  2020-11-07 09:43:50\n",
       "2  97522e57-d9ab-4bd6-97bf-c24d952602d2       dislike  2021-06-17 12:22:51\n",
       "3  97522e57-d9ab-4bd6-97bf-c24d952602d2        scared  2021-04-18 05:13:58\n",
       "4  97522e57-d9ab-4bd6-97bf-c24d952602d2       disgust  2021-01-06 19:13:01\n",
       "5  97522e57-d9ab-4bd6-97bf-c24d952602d2    interested  2020-08-23 12:25:58"
      ]
     },
     "execution_count": 62,
     "metadata": {},
     "output_type": "execute_result"
    }
   ],
   "source": [
    "# cleaned Reaction dataset\n",
    "reactioncsv = pd.read_csv(\"cleaned Reaction.csv\",index_col=0)\n",
    "reactioncsv.head()"
   ]
  },
  {
   "cell_type": "code",
   "execution_count": 63,
   "id": "0057d93e",
   "metadata": {},
   "outputs": [
    {
     "data": {
      "text/html": [
       "<div>\n",
       "<style scoped>\n",
       "    .dataframe tbody tr th:only-of-type {\n",
       "        vertical-align: middle;\n",
       "    }\n",
       "\n",
       "    .dataframe tbody tr th {\n",
       "        vertical-align: top;\n",
       "    }\n",
       "\n",
       "    .dataframe thead th {\n",
       "        text-align: right;\n",
       "    }\n",
       "</style>\n",
       "<table border=\"1\" class=\"dataframe\">\n",
       "  <thead>\n",
       "    <tr style=\"text-align: right;\">\n",
       "      <th></th>\n",
       "      <th>Reaction Type</th>\n",
       "      <th>Sentiment</th>\n",
       "      <th>Score</th>\n",
       "    </tr>\n",
       "  </thead>\n",
       "  <tbody>\n",
       "    <tr>\n",
       "      <th>0</th>\n",
       "      <td>heart</td>\n",
       "      <td>positive</td>\n",
       "      <td>60</td>\n",
       "    </tr>\n",
       "    <tr>\n",
       "      <th>1</th>\n",
       "      <td>want</td>\n",
       "      <td>positive</td>\n",
       "      <td>70</td>\n",
       "    </tr>\n",
       "    <tr>\n",
       "      <th>2</th>\n",
       "      <td>disgust</td>\n",
       "      <td>negative</td>\n",
       "      <td>0</td>\n",
       "    </tr>\n",
       "    <tr>\n",
       "      <th>3</th>\n",
       "      <td>hate</td>\n",
       "      <td>negative</td>\n",
       "      <td>5</td>\n",
       "    </tr>\n",
       "    <tr>\n",
       "      <th>4</th>\n",
       "      <td>interested</td>\n",
       "      <td>positive</td>\n",
       "      <td>30</td>\n",
       "    </tr>\n",
       "  </tbody>\n",
       "</table>\n",
       "</div>"
      ],
      "text/plain": [
       "  Reaction Type Sentiment  Score\n",
       "0         heart  positive     60\n",
       "1          want  positive     70\n",
       "2       disgust  negative      0\n",
       "3          hate  negative      5\n",
       "4    interested  positive     30"
      ]
     },
     "execution_count": 63,
     "metadata": {},
     "output_type": "execute_result"
    }
   ],
   "source": [
    "# cleaned Reactiontypes data set\n",
    "rtcsv = pd.read_csv(r\"cleaned ReactionTypes.csv\",index_col=0)\n",
    "rtcsv.head()"
   ]
  },
  {
   "cell_type": "markdown",
   "id": "b02ae6e4",
   "metadata": {},
   "source": [
    "# Mearging the data sets"
   ]
  },
  {
   "cell_type": "code",
   "execution_count": 73,
   "id": "27102ccb",
   "metadata": {},
   "outputs": [
    {
     "data": {
      "text/html": [
       "<div>\n",
       "<style scoped>\n",
       "    .dataframe tbody tr th:only-of-type {\n",
       "        vertical-align: middle;\n",
       "    }\n",
       "\n",
       "    .dataframe tbody tr th {\n",
       "        vertical-align: top;\n",
       "    }\n",
       "\n",
       "    .dataframe thead th {\n",
       "        text-align: right;\n",
       "    }\n",
       "</style>\n",
       "<table border=\"1\" class=\"dataframe\">\n",
       "  <thead>\n",
       "    <tr style=\"text-align: right;\">\n",
       "      <th></th>\n",
       "      <th>Content ID</th>\n",
       "      <th>Reaction Type</th>\n",
       "      <th>Datetime</th>\n",
       "      <th>Content Type</th>\n",
       "      <th>Category</th>\n",
       "    </tr>\n",
       "  </thead>\n",
       "  <tbody>\n",
       "    <tr>\n",
       "      <th>0</th>\n",
       "      <td>97522e57-d9ab-4bd6-97bf-c24d952602d2</td>\n",
       "      <td>disgust</td>\n",
       "      <td>2020-11-07 09:43:50</td>\n",
       "      <td>photo</td>\n",
       "      <td>studying</td>\n",
       "    </tr>\n",
       "    <tr>\n",
       "      <th>1</th>\n",
       "      <td>97522e57-d9ab-4bd6-97bf-c24d952602d2</td>\n",
       "      <td>dislike</td>\n",
       "      <td>2021-06-17 12:22:51</td>\n",
       "      <td>photo</td>\n",
       "      <td>studying</td>\n",
       "    </tr>\n",
       "    <tr>\n",
       "      <th>2</th>\n",
       "      <td>97522e57-d9ab-4bd6-97bf-c24d952602d2</td>\n",
       "      <td>scared</td>\n",
       "      <td>2021-04-18 05:13:58</td>\n",
       "      <td>photo</td>\n",
       "      <td>studying</td>\n",
       "    </tr>\n",
       "    <tr>\n",
       "      <th>3</th>\n",
       "      <td>97522e57-d9ab-4bd6-97bf-c24d952602d2</td>\n",
       "      <td>disgust</td>\n",
       "      <td>2021-01-06 19:13:01</td>\n",
       "      <td>photo</td>\n",
       "      <td>studying</td>\n",
       "    </tr>\n",
       "    <tr>\n",
       "      <th>4</th>\n",
       "      <td>97522e57-d9ab-4bd6-97bf-c24d952602d2</td>\n",
       "      <td>interested</td>\n",
       "      <td>2020-08-23 12:25:58</td>\n",
       "      <td>photo</td>\n",
       "      <td>studying</td>\n",
       "    </tr>\n",
       "  </tbody>\n",
       "</table>\n",
       "</div>"
      ],
      "text/plain": [
       "                             Content ID Reaction Type             Datetime  \\\n",
       "0  97522e57-d9ab-4bd6-97bf-c24d952602d2       disgust  2020-11-07 09:43:50   \n",
       "1  97522e57-d9ab-4bd6-97bf-c24d952602d2       dislike  2021-06-17 12:22:51   \n",
       "2  97522e57-d9ab-4bd6-97bf-c24d952602d2        scared  2021-04-18 05:13:58   \n",
       "3  97522e57-d9ab-4bd6-97bf-c24d952602d2       disgust  2021-01-06 19:13:01   \n",
       "4  97522e57-d9ab-4bd6-97bf-c24d952602d2    interested  2020-08-23 12:25:58   \n",
       "\n",
       "  Content Type  Category  \n",
       "0        photo  studying  \n",
       "1        photo  studying  \n",
       "2        photo  studying  \n",
       "3        photo  studying  \n",
       "4        photo  studying  "
      ]
     },
     "execution_count": 73,
     "metadata": {},
     "output_type": "execute_result"
    }
   ],
   "source": [
    "# merge reactioncsv and contentcsv table together\n",
    "tb1 = reactioncsv.merge(contentcsv, on=\"Content ID\")\n",
    "\n",
    "# check the head\n",
    "tb1.head()\n"
   ]
  },
  {
   "cell_type": "code",
   "execution_count": 74,
   "id": "bc8d54dd",
   "metadata": {},
   "outputs": [
    {
     "data": {
      "text/html": [
       "<div>\n",
       "<style scoped>\n",
       "    .dataframe tbody tr th:only-of-type {\n",
       "        vertical-align: middle;\n",
       "    }\n",
       "\n",
       "    .dataframe tbody tr th {\n",
       "        vertical-align: top;\n",
       "    }\n",
       "\n",
       "    .dataframe thead th {\n",
       "        text-align: right;\n",
       "    }\n",
       "</style>\n",
       "<table border=\"1\" class=\"dataframe\">\n",
       "  <thead>\n",
       "    <tr style=\"text-align: right;\">\n",
       "      <th></th>\n",
       "      <th>Content ID</th>\n",
       "      <th>Reaction Type</th>\n",
       "      <th>Datetime</th>\n",
       "      <th>Content Type</th>\n",
       "      <th>Category</th>\n",
       "      <th>Sentiment</th>\n",
       "      <th>Score</th>\n",
       "    </tr>\n",
       "  </thead>\n",
       "  <tbody>\n",
       "    <tr>\n",
       "      <th>0</th>\n",
       "      <td>97522e57-d9ab-4bd6-97bf-c24d952602d2</td>\n",
       "      <td>disgust</td>\n",
       "      <td>2020-11-07 09:43:50</td>\n",
       "      <td>photo</td>\n",
       "      <td>studying</td>\n",
       "      <td>negative</td>\n",
       "      <td>0</td>\n",
       "    </tr>\n",
       "    <tr>\n",
       "      <th>1</th>\n",
       "      <td>97522e57-d9ab-4bd6-97bf-c24d952602d2</td>\n",
       "      <td>disgust</td>\n",
       "      <td>2021-01-06 19:13:01</td>\n",
       "      <td>photo</td>\n",
       "      <td>studying</td>\n",
       "      <td>negative</td>\n",
       "      <td>0</td>\n",
       "    </tr>\n",
       "    <tr>\n",
       "      <th>2</th>\n",
       "      <td>97522e57-d9ab-4bd6-97bf-c24d952602d2</td>\n",
       "      <td>disgust</td>\n",
       "      <td>2021-04-09 02:46:20</td>\n",
       "      <td>photo</td>\n",
       "      <td>studying</td>\n",
       "      <td>negative</td>\n",
       "      <td>0</td>\n",
       "    </tr>\n",
       "    <tr>\n",
       "      <th>3</th>\n",
       "      <td>9f737e0a-3cdd-4d29-9d24-753f4e3be810</td>\n",
       "      <td>disgust</td>\n",
       "      <td>2021-03-28 21:15:26</td>\n",
       "      <td>photo</td>\n",
       "      <td>healthy eating</td>\n",
       "      <td>negative</td>\n",
       "      <td>0</td>\n",
       "    </tr>\n",
       "    <tr>\n",
       "      <th>4</th>\n",
       "      <td>230c4e4d-70c3-461d-b42c-ec09396efb3f</td>\n",
       "      <td>disgust</td>\n",
       "      <td>2020-08-04 05:40:33</td>\n",
       "      <td>photo</td>\n",
       "      <td>healthy eating</td>\n",
       "      <td>negative</td>\n",
       "      <td>0</td>\n",
       "    </tr>\n",
       "  </tbody>\n",
       "</table>\n",
       "</div>"
      ],
      "text/plain": [
       "                             Content ID Reaction Type             Datetime  \\\n",
       "0  97522e57-d9ab-4bd6-97bf-c24d952602d2       disgust  2020-11-07 09:43:50   \n",
       "1  97522e57-d9ab-4bd6-97bf-c24d952602d2       disgust  2021-01-06 19:13:01   \n",
       "2  97522e57-d9ab-4bd6-97bf-c24d952602d2       disgust  2021-04-09 02:46:20   \n",
       "3  9f737e0a-3cdd-4d29-9d24-753f4e3be810       disgust  2021-03-28 21:15:26   \n",
       "4  230c4e4d-70c3-461d-b42c-ec09396efb3f       disgust  2020-08-04 05:40:33   \n",
       "\n",
       "  Content Type        Category Sentiment  Score  \n",
       "0        photo        studying  negative      0  \n",
       "1        photo        studying  negative      0  \n",
       "2        photo        studying  negative      0  \n",
       "3        photo  healthy eating  negative      0  \n",
       "4        photo  healthy eating  negative      0  "
      ]
     },
     "execution_count": 74,
     "metadata": {},
     "output_type": "execute_result"
    }
   ],
   "source": [
    "# merge tb1 together with rtcsv\n",
    "\n",
    "final_table = tb1.merge(rtcsv, on=\"Reaction Type\")\n",
    "\n",
    "#check the head\n",
    "final_table.head()"
   ]
  },
  {
   "cell_type": "code",
   "execution_count": 75,
   "id": "ef74886d",
   "metadata": {},
   "outputs": [
    {
     "data": {
      "text/html": [
       "<div>\n",
       "<style scoped>\n",
       "    .dataframe tbody tr th:only-of-type {\n",
       "        vertical-align: middle;\n",
       "    }\n",
       "\n",
       "    .dataframe tbody tr th {\n",
       "        vertical-align: top;\n",
       "    }\n",
       "\n",
       "    .dataframe thead th {\n",
       "        text-align: right;\n",
       "    }\n",
       "</style>\n",
       "<table border=\"1\" class=\"dataframe\">\n",
       "  <thead>\n",
       "    <tr style=\"text-align: right;\">\n",
       "      <th></th>\n",
       "      <th>Content ID</th>\n",
       "      <th>Reaction Type</th>\n",
       "      <th>Datetime</th>\n",
       "      <th>Content Type</th>\n",
       "      <th>Category</th>\n",
       "      <th>Sentiment</th>\n",
       "      <th>Score</th>\n",
       "    </tr>\n",
       "  </thead>\n",
       "  <tbody>\n",
       "    <tr>\n",
       "      <th>0</th>\n",
       "      <td>97522e57-d9ab-4bd6-97bf-c24d952602d2</td>\n",
       "      <td>disgust</td>\n",
       "      <td>2020-11-07 09:43:50</td>\n",
       "      <td>photo</td>\n",
       "      <td>studying</td>\n",
       "      <td>negative</td>\n",
       "      <td>0</td>\n",
       "    </tr>\n",
       "    <tr>\n",
       "      <th>1</th>\n",
       "      <td>97522e57-d9ab-4bd6-97bf-c24d952602d2</td>\n",
       "      <td>disgust</td>\n",
       "      <td>2021-01-06 19:13:01</td>\n",
       "      <td>photo</td>\n",
       "      <td>studying</td>\n",
       "      <td>negative</td>\n",
       "      <td>0</td>\n",
       "    </tr>\n",
       "    <tr>\n",
       "      <th>2</th>\n",
       "      <td>97522e57-d9ab-4bd6-97bf-c24d952602d2</td>\n",
       "      <td>disgust</td>\n",
       "      <td>2021-04-09 02:46:20</td>\n",
       "      <td>photo</td>\n",
       "      <td>studying</td>\n",
       "      <td>negative</td>\n",
       "      <td>0</td>\n",
       "    </tr>\n",
       "    <tr>\n",
       "      <th>3</th>\n",
       "      <td>9f737e0a-3cdd-4d29-9d24-753f4e3be810</td>\n",
       "      <td>disgust</td>\n",
       "      <td>2021-03-28 21:15:26</td>\n",
       "      <td>photo</td>\n",
       "      <td>healthy eating</td>\n",
       "      <td>negative</td>\n",
       "      <td>0</td>\n",
       "    </tr>\n",
       "    <tr>\n",
       "      <th>4</th>\n",
       "      <td>230c4e4d-70c3-461d-b42c-ec09396efb3f</td>\n",
       "      <td>disgust</td>\n",
       "      <td>2020-08-04 05:40:33</td>\n",
       "      <td>photo</td>\n",
       "      <td>healthy eating</td>\n",
       "      <td>negative</td>\n",
       "      <td>0</td>\n",
       "    </tr>\n",
       "  </tbody>\n",
       "</table>\n",
       "</div>"
      ],
      "text/plain": [
       "                             Content ID Reaction Type             Datetime  \\\n",
       "0  97522e57-d9ab-4bd6-97bf-c24d952602d2       disgust  2020-11-07 09:43:50   \n",
       "1  97522e57-d9ab-4bd6-97bf-c24d952602d2       disgust  2021-01-06 19:13:01   \n",
       "2  97522e57-d9ab-4bd6-97bf-c24d952602d2       disgust  2021-04-09 02:46:20   \n",
       "3  9f737e0a-3cdd-4d29-9d24-753f4e3be810       disgust  2021-03-28 21:15:26   \n",
       "4  230c4e4d-70c3-461d-b42c-ec09396efb3f       disgust  2020-08-04 05:40:33   \n",
       "\n",
       "  Content Type        Category Sentiment  Score  \n",
       "0        photo        studying  negative      0  \n",
       "1        photo        studying  negative      0  \n",
       "2        photo        studying  negative      0  \n",
       "3        photo  healthy eating  negative      0  \n",
       "4        photo  healthy eating  negative      0  "
      ]
     },
     "execution_count": 75,
     "metadata": {},
     "output_type": "execute_result"
    }
   ],
   "source": [
    "final_table.head()"
   ]
  },
  {
   "cell_type": "code",
   "execution_count": 81,
   "id": "93a6be68",
   "metadata": {},
   "outputs": [
    {
     "data": {
      "text/plain": [
       "Content ID       0\n",
       "Reaction Type    0\n",
       "Datetime         0\n",
       "Content Type     0\n",
       "Category         0\n",
       "Sentiment        0\n",
       "Score            0\n",
       "dtype: int64"
      ]
     },
     "execution_count": 81,
     "metadata": {},
     "output_type": "execute_result"
    }
   ],
   "source": [
    "# Let's see if we have any mising value while merging\n",
    "final_table.isna().sum().sort_values()"
   ]
  },
  {
   "cell_type": "markdown",
   "id": "e4d0b192",
   "metadata": {},
   "source": [
    "# Data Analysis \n",
    " \n",
    " - Let's select our Top 5 Categories"
   ]
  },
  {
   "cell_type": "code",
   "execution_count": 89,
   "id": "4db50664",
   "metadata": {},
   "outputs": [
    {
     "data": {
      "text/html": [
       "<div>\n",
       "<style scoped>\n",
       "    .dataframe tbody tr th:only-of-type {\n",
       "        vertical-align: middle;\n",
       "    }\n",
       "\n",
       "    .dataframe tbody tr th {\n",
       "        vertical-align: top;\n",
       "    }\n",
       "\n",
       "    .dataframe thead th {\n",
       "        text-align: right;\n",
       "    }\n",
       "</style>\n",
       "<table border=\"1\" class=\"dataframe\">\n",
       "  <thead>\n",
       "    <tr style=\"text-align: right;\">\n",
       "      <th></th>\n",
       "      <th>Category</th>\n",
       "      <th>Score</th>\n",
       "    </tr>\n",
       "  </thead>\n",
       "  <tbody>\n",
       "    <tr>\n",
       "      <th>0</th>\n",
       "      <td>animals</td>\n",
       "      <td>74965</td>\n",
       "    </tr>\n",
       "    <tr>\n",
       "      <th>1</th>\n",
       "      <td>science</td>\n",
       "      <td>71168</td>\n",
       "    </tr>\n",
       "    <tr>\n",
       "      <th>2</th>\n",
       "      <td>healthy eating</td>\n",
       "      <td>69339</td>\n",
       "    </tr>\n",
       "    <tr>\n",
       "      <th>3</th>\n",
       "      <td>technology</td>\n",
       "      <td>68738</td>\n",
       "    </tr>\n",
       "    <tr>\n",
       "      <th>4</th>\n",
       "      <td>food</td>\n",
       "      <td>66676</td>\n",
       "    </tr>\n",
       "  </tbody>\n",
       "</table>\n",
       "</div>"
      ],
      "text/plain": [
       "         Category  Score\n",
       "0         animals  74965\n",
       "1         science  71168\n",
       "2  healthy eating  69339\n",
       "3      technology  68738\n",
       "4            food  66676"
      ]
     },
     "execution_count": 89,
     "metadata": {},
     "output_type": "execute_result"
    }
   ],
   "source": [
    "\n",
    "selection= final_table.groupby(\"Category\")[\"Score\"].sum().sort_values(ascending = False)\n",
    "selection = selection.reset_index(name='Score')\n",
    "\n",
    "# check head of selection\n",
    "selection.head()"
   ]
  },
  {
   "cell_type": "code",
   "execution_count": 91,
   "id": "113b6638",
   "metadata": {},
   "outputs": [],
   "source": [
    "selection.to_csv(\"Top_5_Categories.csv\")\n"
   ]
  },
  {
   "cell_type": "code",
   "execution_count": null,
   "id": "379df1c4",
   "metadata": {},
   "outputs": [],
   "source": []
  },
  {
   "cell_type": "markdown",
   "id": "7d16759b",
   "metadata": {},
   "source": [
    "# Data Visualization"
   ]
  },
  {
   "cell_type": "code",
   "execution_count": 112,
   "id": "dee33cac",
   "metadata": {},
   "outputs": [
    {
     "data": {
      "image/png": "[encoded data removed]",
      "text/plain": [
       "<Figure size 640x480 with 1 Axes>"
      ]
     },
     "metadata": {},
     "output_type": "display_data"
    }
   ],
   "source": [
    "import pandas as pd\n",
    "import seaborn as sns\n",
    "import matplotlib.pyplot as plt\n",
    "\n",
    "#Create a DataFrame from the provided data\n",
    "data = {\n",
    "    'Category': ['animals', 'science', 'healthy eating', 'technology', 'food'],\n",
    "    'Score': [74965, 71168, 69339, 68738, 66676]\n",
    "}\n",
    "df = pd.DataFrame(data)\n",
    "\n",
    "# Create bar plot using seaborn\n",
    "sns.barplot(x=\"Score\", y=\"Category, data=df, palette='viridis')\n",
    "\n",
    "# Add labels and title\n",
    "plt.xlabel('Score')\n",
    "plt.ylabel('Category')\n",
    "plt.title('Bar Plot of Scores by Category')\n",
    "\n",
    "# Show plot\n",
    "plt.show()\n"
   ]
  },
  {
   "cell_type": "code",
   "execution_count": 120,
   "id": "bf8da261",
   "metadata": {},
   "outputs": [
    {
     "data": {
      "image/png": "[encoded data removed]",
      "text/plain": [
       "<Figure size 640x480 with 1 Axes>"
      ]
     },
     "metadata": {},
     "output_type": "display_data"
    }
   ],
   "source": [
    "import matplotlib.pyplot as plt\n",
    "\n",
    "# Define sizes and labels from the DataFrame\n",
    "sizes = df[\"Score\"]\n",
    "labels = df[\"Category\"]\n",
    "\n",
    "# Define explode to have the same length as sizes\n",
    "explode = [0.1 if i == 0 else 0 for i in range(len(sizes))]  # Explode only the first slice\n",
    "\n",
    "fig, ax = plt.subplots()\n",
    "ax.pie(sizes, explode=explode, labels=labels, autopct='%1.1f%%',\n",
    "       shadow=True, startangle=90, textprops={'fontsize': 14})\n",
    "ax.set_title(\"Percentage of Top 5 Categories\", fontdict={'size': 15, 'weight': \"bold\"})\n",
    "plt.show()\n"
   ]
  },
  {
   "cell_type": "markdown",
   "id": "b3e95f02",
   "metadata": {},
   "source": [
    "# Insights\n",
    "- Let's Answer the Following Questions ;\n",
    "\n",
    "  - How many unique categories are there?\n",
    "  - How many reactions are there to the most popular category?\n",
    "  - What was the month with the most posts?"
   ]
  },
  {
   "cell_type": "code",
   "execution_count": 121,
   "id": "154c2a62",
   "metadata": {},
   "outputs": [
    {
     "name": "stdout",
     "output_type": "stream",
     "text": [
      "Number of Unique Categories in the data set is : 16\n"
     ]
    }
   ],
   "source": [
    "print(\"Number of Unique Categories in the data set is :\",final_table[\"Category\"].nunique())"
   ]
  },
  {
   "cell_type": "code",
   "execution_count": 122,
   "id": "4a8fd869",
   "metadata": {},
   "outputs": [
    {
     "data": {
      "text/plain": [
       "Category\n",
       "animals    1897\n",
       "Name: Reaction Type, dtype: int64"
      ]
     },
     "execution_count": 122,
     "metadata": {},
     "output_type": "execute_result"
    }
   ],
   "source": [
    "no_of_reactions= final_table.groupby(\"Category\")[\"Reaction Type\"].count()\n",
    "no_of_reactions.head(1)"
   ]
  },
  {
   "cell_type": "code",
   "execution_count": 123,
   "id": "5a9943ee",
   "metadata": {},
   "outputs": [
    {
     "name": "stdout",
     "output_type": "stream",
     "text": [
      "Number of Reactions to the most popular category(amimals) is : 1897\n"
     ]
    }
   ],
   "source": [
    "print(\"Number of Reactions to the most popular category(amimals) is :\",1897)"
   ]
  },
  {
   "cell_type": "code",
   "execution_count": null,
   "id": "9ebe0757",
   "metadata": {},
   "outputs": [],
   "source": []
  }
 ],
 "metadata": {
  "kernelspec": {
   "display_name": "Python 3 (ipykernel)",
   "language": "python",
   "name": "python3"
  },
  "language_info": {
   "codemirror_mode": {
    "name": "ipython",
    "version": 3
   },
   "file_extension": ".py",
   "mimetype": "text/x-python",
   "name": "python",
   "nbconvert_exporter": "python",
   "pygments_lexer": "ipython3",
   "version": "3.11.5"
  }
 },
 "nbformat": 4,
 "nbformat_minor": 5
}
